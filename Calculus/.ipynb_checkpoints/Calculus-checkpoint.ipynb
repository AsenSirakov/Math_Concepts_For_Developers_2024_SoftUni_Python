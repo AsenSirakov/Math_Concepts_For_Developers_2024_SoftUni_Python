{
 "cells": [
  {
   "cell_type": "code",
   "execution_count": null,
   "id": "86987685-2da2-49a0-acd9-08a7ec0389c5",
   "metadata": {},
   "outputs": [],
   "source": [
    "def get_limit(f, a):\n",
    "epsilon = np.array([\n",
    "10 ** p\n",
    "for p in np.arange(0, -11, -1, dtype = float)])\n",
    "x = np.append(a - epsilon, (a + epsilon)[::-1])\n",
    "y = f(x)\n",
    "return np.stack([x, y], axis = 1)\n",
    "print(get_limit(lambda x: x ** 2, 3))\n",
    "print(get_limit(lambda x: x ** 2 + 3 * x, 2))\n",
    "print(get_limit(lambda x: np.sin(x), 0))"
   ]
  }
 ],
 "metadata": {
  "kernelspec": {
   "display_name": "Python 3 (ipykernel)",
   "language": "python",
   "name": "python3"
  },
  "language_info": {
   "codemirror_mode": {
    "name": "ipython",
    "version": 3
   },
   "file_extension": ".py",
   "mimetype": "text/x-python",
   "name": "python",
   "nbconvert_exporter": "python",
   "pygments_lexer": "ipython3",
   "version": "3.11.7"
  }
 },
 "nbformat": 4,
 "nbformat_minor": 5
}
