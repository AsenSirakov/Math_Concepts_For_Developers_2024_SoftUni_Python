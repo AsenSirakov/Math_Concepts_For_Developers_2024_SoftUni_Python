{
 "cells": [
  {
   "cell_type": "markdown",
   "id": "9484d6fd-8b58-4998-ad04-affee1dc1e5e",
   "metadata": {},
   "source": [
    "# Linear Algebra NOTES AND DEMOS"
   ]
  },
  {
   "cell_type": "code",
   "execution_count": 2,
   "id": "2cb6bc68-298a-49f4-9878-761ae6ee9f73",
   "metadata": {},
   "outputs": [],
   "source": [
    "import numpy as np\n",
    "from numpy.polynomial.polynomial import Polynomial\n",
    "import matplotlib.pyplot as plt\n",
    "import random\n",
    "import math\n",
    "import turtle\n",
    "import secrets\n",
    "import time\n",
    "from sympy.ntheory import factorint"
   ]
  },
  {
   "cell_type": "code",
   "execution_count": 4,
   "id": "91adad4f-d754-4e14-bd36-17a077ace148",
   "metadata": {},
   "outputs": [
    {
     "name": "stdout",
     "output_type": "stream",
     "text": [
      "[[ 3  0  7]\n",
      " [10  5  2]]\n",
      "[[ 4  6 14]\n",
      " [16 18  2]]\n",
      "[[  2  -9   0]\n",
      " [ 16 -36   1]]\n"
     ]
    },
    {
     "ename": "ValueError",
     "evalue": "shapes (2,3) and (2,3) not aligned: 3 (dim 1) != 2 (dim 0)",
     "output_type": "error",
     "traceback": [
      "\u001b[1;31m---------------------------------------------------------------------------\u001b[0m",
      "\u001b[1;31mValueError\u001b[0m                                Traceback (most recent call last)",
      "Cell \u001b[1;32mIn[4], line 12\u001b[0m\n\u001b[0;32m     10\u001b[0m \u001b[38;5;28mprint\u001b[39m(\u001b[38;5;241m2\u001b[39m \u001b[38;5;241m*\u001b[39m A)\n\u001b[0;32m     11\u001b[0m \u001b[38;5;28mprint\u001b[39m(A \u001b[38;5;241m*\u001b[39m B) \u001b[38;5;66;03m# Element-wise multiplication\u001b[39;00m\n\u001b[1;32m---> 12\u001b[0m \u001b[38;5;28mprint\u001b[39m(A\u001b[38;5;241m.\u001b[39mdot(B)) \u001b[38;5;66;03m# Error: shapes not aligned\u001b[39;00m\n\u001b[0;32m     13\u001b[0m \u001b[38;5;28mprint\u001b[39m(A\u001b[38;5;241m.\u001b[39mdot(B\u001b[38;5;241m.\u001b[39mT))\n",
      "\u001b[1;31mValueError\u001b[0m: shapes (2,3) and (2,3) not aligned: 3 (dim 1) != 2 (dim 0)"
     ]
    }
   ],
   "source": [
    "    A = np.array([\n",
    "    [2, 3, 7],\n",
    "    [8, 9, 1]\n",
    "    ])\n",
    "    B = np.array([\n",
    "    [1, -3, 0],\n",
    "    [2, -4, 1]\n",
    "    ])\n",
    "    print(A + B)\n",
    "    print(2 * A)\n",
    "    print(A * B) # Element-wise multiplication\n",
    "    print(A.dot(B)) # Error: shapes not aligned\n",
    "    print(A.dot(B.T)) # Matrix multiplication"
   ]
  }
 ],
 "metadata": {
  "kernelspec": {
   "display_name": "Python 3 (ipykernel)",
   "language": "python",
   "name": "python3"
  },
  "language_info": {
   "codemirror_mode": {
    "name": "ipython",
    "version": 3
   },
   "file_extension": ".py",
   "mimetype": "text/x-python",
   "name": "python",
   "nbconvert_exporter": "python",
   "pygments_lexer": "ipython3",
   "version": "3.11.7"
  }
 },
 "nbformat": 4,
 "nbformat_minor": 5
}
