{
 "cells": [
  {
   "cell_type": "markdown",
   "id": "59cb74a7-8fde-459a-980b-824531e5754b",
   "metadata": {},
   "source": [
    "# Basic Algebra Notes and Demos"
   ]
  },
  {
   "cell_type": "markdown",
   "id": "19663ef8-3347-49fd-afa4-19d29c4ef371",
   "metadata": {},
   "source": [
    "## 1 Polynomials\n",
    "1. Term(monomial) $2x^2$,Coefficient(number),variable(x),power(>=0)"
   ]
  }
 ],
 "metadata": {
  "kernelspec": {
   "display_name": "Python 3 (ipykernel)",
   "language": "python",
   "name": "python3"
  },
  "language_info": {
   "codemirror_mode": {
    "name": "ipython",
    "version": 3
   },
   "file_extension": ".py",
   "mimetype": "text/x-python",
   "name": "python",
   "nbconvert_exporter": "python",
   "pygments_lexer": "ipython3",
   "version": "3.11.7"
  }
 },
 "nbformat": 4,
 "nbformat_minor": 5
}
