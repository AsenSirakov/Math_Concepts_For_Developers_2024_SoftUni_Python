{
 "cells": [
  {
   "cell_type": "markdown",
   "id": "59cb74a7-8fde-459a-980b-824531e5754b",
   "metadata": {},
   "source": [
    "# Basic Algebra Notes and Demos"
   ]
  },
  {
   "cell_type": "markdown",
   "id": "19663ef8-3347-49fd-afa4-19d29c4ef371",
   "metadata": {},
   "source": [
    "## 1 Polynomials\n",
    "1. **Term**(monomial) $2x^2$,Coefficient(number),variable(x),power(>=0)\n",
    "2. **Polynomial**: sum of monomials $2x^4 + 3x^2 - 0.5x + 2.72  \\sum_{i =0} ^ {d} a_i x^i$\n",
    "3. **Degree**: The highest degree of the variable(coefficient != 0)\n",
    "## 2 Operations on polynomials\n",
    "1. **Addition and subtraction**: $(2x^2 + 5x - 8) + (3x^4 - 2) = 3x^4 + 2x^2 + 5x - 10$: The coefficients with the same power(like $x^2$) are collected and sorted from x^n to x^0. The highest power in addition is preserved($2x^4$). **Subtraction** $5-2 ; 5 + a : 2 + a = 0 => 5 + (-2)$\n",
    "2. **Multiplication and division** $(2x^2 + 5x - 8) * (3x^4 - 2) = 6x^6 + 15x^5 - 24x^4 - 4x^2 - 10x + 16$. Every number is multiplied from the first brackets is multiplied with every number from the next brackets.$2x^2 * 3x^4 = 6x^6$ (number with number and the powerd multiplication is ($x^2 * x^4 = x^{2+4}$))\n",
    "  "
   ]
  }
 ],
 "metadata": {
  "kernelspec": {
   "display_name": "Python 3 (ipykernel)",
   "language": "python",
   "name": "python3"
  },
  "language_info": {
   "codemirror_mode": {
    "name": "ipython",
    "version": 3
   },
   "file_extension": ".py",
   "mimetype": "text/x-python",
   "name": "python",
   "nbconvert_exporter": "python",
   "pygments_lexer": "ipython3",
   "version": "3.11.7"
  }
 },
 "nbformat": 4,
 "nbformat_minor": 5
}
