{
 "cells": [
  {
   "cell_type": "code",
   "execution_count": 1,
   "id": "5396bf12-f5cf-4f96-90c0-f76c49cc3b3a",
   "metadata": {},
   "outputs": [],
   "source": [
    "import numpy as np\n",
    "import matplotlib.pyplot as plt\n",
    "import pandas as pd\n",
    "from scipy.stats import skew, kurtosis"
   ]
  },
  {
   "cell_type": "markdown",
   "id": "c3ae823f-6a6f-41cc-8322-f76227f930eb",
   "metadata": {},
   "source": [
    "# **Support Vector Machines (SVM)**"
   ]
  },
  {
   "cell_type": "markdown",
   "id": "f3fc4f3b-81c4-42ff-994a-f560e5df91c3",
   "metadata": {},
   "source": [
    "introduction- problem definition, what is svm, what are you focusing on "
   ]
  },
  {
   "cell_type": "markdown",
   "id": "a8fd9ed4-d734-4b99-932e-014e247da92d",
   "metadata": {},
   "source": [
    "## Introduction \n",
    "One of the most important concepts in the field of Machine Learning is **classification**. It's widely used in email SPAM detection, image recognition, face recognition, **sentiment analysis** and many more. The main problem of traditional ML algorithms for classification is handling high-dimensional data. One algorithm that solves that problem is **Support Vector Machine (SVM)**. What allows SVM to work with high-dimentional data is a clever technique called the **Kernel trick**. In this tutorial I'm going to explain Support Vector Machines, the mathematical concepts behind them, their methods, what is the Kernel trick and how it works, implementations and applications. Support Vector Machine is a powerful **supervised** machine learning algorithm that is used for linear or non-linear classification, regression and outlier detection.The primary objective of the SVM algorithm is to find the optimal **hyperplane** in an N-dimentional space(N-number of **features**) that can separate the **data points** of different classes in the feature space.This separation is achieved with the maximum possible **margin**."
   ]
  },
  {
   "cell_type": "markdown",
   "id": "a73ccb51-6c7a-4513-b972-bb9d0eaff484",
   "metadata": {},
   "source": [
    "methodologies and math concepts \n",
    "1. how does it work\n",
    "2. vsichki drugi gluposti\n",
    "3. nekvi drugi raboti\n",
    "4. kernel trick/kernel functions"
   ]
  },
  {
   "cell_type": "markdown",
   "id": "2843ed24-2a9c-41ab-9292-99132a829549",
   "metadata": {},
   "source": [
    "## Methodologies, math concepts and definitions"
   ]
  },
  {
   "cell_type": "markdown",
   "id": "344b2ea0-aaad-4cca-a641-3bcba288d92f",
   "metadata": {},
   "source": [
    "### How does SVM work\n",
    "I shall begin by mentioning some basic concepts that will make my explanations more clear."
   ]
  },
  {
   "cell_type": "markdown",
   "id": "a028604c-35ec-4c9f-9e24-9f1a1705553a",
   "metadata": {},
   "source": [
    "implementation\n",
    "1.code - scikit learn\n",
    "2. code- if posssible manual "
   ]
  },
  {
   "cell_type": "markdown",
   "id": "e5931dfb-2e5a-43a7-bf2c-d654b544daa1",
   "metadata": {},
   "source": [
    "applications \n",
    "1. why are they universal\n",
    "2. neural networks\n",
    "3. other apllications"
   ]
  },
  {
   "cell_type": "markdown",
   "id": "3a25cc0d-d0ac-4011-a473-48cedcc13732",
   "metadata": {},
   "source": [
    "conclusion\n"
   ]
  },
  {
   "cell_type": "markdown",
   "id": "1991cf42-2e40-4c16-8a98-c2879cc47c64",
   "metadata": {},
   "source": [
    "bibliography"
   ]
  },
  {
   "cell_type": "code",
   "execution_count": null,
   "id": "b41919d8-8792-4f23-a0b1-24a2c99d8754",
   "metadata": {},
   "outputs": [],
   "source": []
  }
 ],
 "metadata": {
  "kernelspec": {
   "display_name": "Python 3 (ipykernel)",
   "language": "python",
   "name": "python3"
  },
  "language_info": {
   "codemirror_mode": {
    "name": "ipython",
    "version": 3
   },
   "file_extension": ".py",
   "mimetype": "text/x-python",
   "name": "python",
   "nbconvert_exporter": "python",
   "pygments_lexer": "ipython3",
   "version": "3.11.7"
  }
 },
 "nbformat": 4,
 "nbformat_minor": 5
}
