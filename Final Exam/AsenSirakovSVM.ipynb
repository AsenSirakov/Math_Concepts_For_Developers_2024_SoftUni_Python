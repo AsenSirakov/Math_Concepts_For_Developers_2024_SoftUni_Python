{
 "cells": [
  {
   "cell_type": "markdown",
   "id": "c3ae823f-6a6f-41cc-8322-f76227f930eb",
   "metadata": {},
   "source": [
    "# **Support Vector Machines (SVM). The math behind SVM's.**"
   ]
  }
 ],
 "metadata": {
  "kernelspec": {
   "display_name": "Python 3 (ipykernel)",
   "language": "python",
   "name": "python3"
  },
  "language_info": {
   "codemirror_mode": {
    "name": "ipython",
    "version": 3
   },
   "file_extension": ".py",
   "mimetype": "text/x-python",
   "name": "python",
   "nbconvert_exporter": "python",
   "pygments_lexer": "ipython3",
   "version": "3.11.7"
  }
 },
 "nbformat": 4,
 "nbformat_minor": 5
}
