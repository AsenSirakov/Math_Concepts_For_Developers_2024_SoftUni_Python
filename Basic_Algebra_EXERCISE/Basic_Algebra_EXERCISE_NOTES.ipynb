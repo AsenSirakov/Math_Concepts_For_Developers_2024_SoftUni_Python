{
 "cells": [
  {
   "cell_type": "markdown",
   "id": "0dd3d80f-6e02-485f-8385-be85ac05786a",
   "metadata": {},
   "source": [
    "# Basic algebra EXERCISE NOTES AND DEMOS "
   ]
  },
  {
   "cell_type": "markdown",
   "id": "774da34e-b24e-4303-bd05-ebdd7f985409",
   "metadata": {},
   "source": []
  }
 ],
 "metadata": {
  "kernelspec": {
   "display_name": "Python 3 (ipykernel)",
   "language": "python",
   "name": "python3"
  },
  "language_info": {
   "codemirror_mode": {
    "name": "ipython",
    "version": 3
   },
   "file_extension": ".py",
   "mimetype": "text/x-python",
   "name": "python",
   "nbconvert_exporter": "python",
   "pygments_lexer": "ipython3",
   "version": "3.11.7"
  }
 },
 "nbformat": 4,
 "nbformat_minor": 5
}
