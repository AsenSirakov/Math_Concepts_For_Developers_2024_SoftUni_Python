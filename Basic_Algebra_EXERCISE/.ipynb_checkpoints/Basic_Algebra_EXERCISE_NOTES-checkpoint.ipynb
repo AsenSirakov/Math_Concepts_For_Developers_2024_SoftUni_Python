{
 "cells": [
  {
   "cell_type": "markdown",
   "id": "0dd3d80f-6e02-485f-8385-be85ac05786a",
   "metadata": {},
   "source": [
    "# Basic algebra EXERCISE NOTES AND DEMOS "
   ]
  },
  {
   "cell_type": "markdown",
   "id": "774da34e-b24e-4303-bd05-ebdd7f985409",
   "metadata": {},
   "source": [
    "## Demos(Writing functions,clean coding,concepts(immutable,closure,comprehention,pattern matching and writing understandable and fast code ))"
   ]
  },
  {
   "cell_type": "code",
   "execution_count": 79,
   "id": "0246300d-ecb8-4fcc-8c89-c4a6edd44d4b",
   "metadata": {},
   "outputs": [],
   "source": [
    "import numpy as np"
   ]
  },
  {
   "cell_type": "markdown",
   "id": "f34758b8-8130-4185-9af3-8b243c2e745d",
   "metadata": {},
   "source": [
    "### This is a  bad example for code writing(This function doesn't return anything and it prints the numbers off the side. FUNCTIONS SHOULD RETURN A VALUE)"
   ]
  },
  {
   "cell_type": "code",
   "execution_count": 5,
   "id": "3366718f-37af-4fd6-8f85-400e67222e52",
   "metadata": {},
   "outputs": [],
   "source": [
    "def get_numbers(low = 1, high = 11):\n",
    "    numbers = []\n",
    "    i = low\n",
    "    while i < high:\n",
    "        numbers.append(i)\n",
    "        i += 1\n",
    "    print(numbers)\n",
    "        "
   ]
  },
  {
   "cell_type": "code",
   "execution_count": 6,
   "id": "35a692cc-988e-47fe-8ede-6e0ce8adbd3b",
   "metadata": {},
   "outputs": [
    {
     "name": "stdout",
     "output_type": "stream",
     "text": [
      "[1, 2, 3, 4, 5, 6, 7, 8, 9, 10]\n"
     ]
    }
   ],
   "source": [
    "numbers = get_numbers()"
   ]
  },
  {
   "cell_type": "code",
   "execution_count": 7,
   "id": "d3722765-8673-4e67-b1e5-43501289015a",
   "metadata": {},
   "outputs": [
    {
     "data": {
      "text/plain": [
       "True"
      ]
     },
     "execution_count": 7,
     "metadata": {},
     "output_type": "execute_result"
    }
   ],
   "source": [
    "numbers is None"
   ]
  },
  {
   "cell_type": "code",
   "execution_count": 8,
   "id": "87987295-39b0-4dff-82ce-aa0644aa35c4",
   "metadata": {},
   "outputs": [
    {
     "name": "stdout",
     "output_type": "stream",
     "text": [
      "[]\n"
     ]
    }
   ],
   "source": [
    "get_numbers(20, 1)"
   ]
  },
  {
   "cell_type": "markdown",
   "id": "ebd37308-8e59-4ad5-aec6-758b2eb59b97",
   "metadata": {},
   "source": [
    "### Fixing it a bit,but it's still not correct the style is more of a C# coding "
   ]
  },
  {
   "cell_type": "code",
   "execution_count": 15,
   "id": "35ecd8ea-39c6-4b00-8d10-1021ffb8966a",
   "metadata": {},
   "outputs": [],
   "source": [
    "def get_numbers(low = 1, high = 11):\n",
    "    if low > high:\n",
    "        raise ValueError(\"low cannot be greater than high\")\n",
    "    numbers = []\n",
    "    i = low\n",
    "    while i < high:\n",
    "        numbers.append(i) \n",
    "        i += 1\n",
    "    return numbers"
   ]
  },
  {
   "cell_type": "code",
   "execution_count": 16,
   "id": "ef9ad93f-d0d7-4725-9d07-ccdc6f1e7247",
   "metadata": {},
   "outputs": [],
   "source": [
    "numbers = get_numbers()"
   ]
  },
  {
   "cell_type": "code",
   "execution_count": 17,
   "id": "54ddea62-8320-4002-a4cc-1f1ada19c380",
   "metadata": {},
   "outputs": [
    {
     "data": {
      "text/plain": [
       "[1, 2, 3, 4, 5, 6, 7, 8, 9, 10]"
      ]
     },
     "execution_count": 17,
     "metadata": {},
     "output_type": "execute_result"
    }
   ],
   "source": [
    "numbers\n"
   ]
  },
  {
   "cell_type": "code",
   "execution_count": 18,
   "id": "7a52691d-6ff5-4b96-b334-e7d14ed6d7ec",
   "metadata": {},
   "outputs": [
    {
     "data": {
      "text/plain": [
       "False"
      ]
     },
     "execution_count": 18,
     "metadata": {},
     "output_type": "execute_result"
    }
   ],
   "source": [
    "numbers is None"
   ]
  },
  {
   "cell_type": "code",
   "execution_count": 19,
   "id": "3c649b6f-e0fd-4345-a0e6-d34a31f7d4b4",
   "metadata": {},
   "outputs": [
    {
     "ename": "ValueError",
     "evalue": "low cannot be greater than high",
     "output_type": "error",
     "traceback": [
      "\u001b[1;31m---------------------------------------------------------------------------\u001b[0m",
      "\u001b[1;31mValueError\u001b[0m                                Traceback (most recent call last)",
      "Cell \u001b[1;32mIn[19], line 1\u001b[0m\n\u001b[1;32m----> 1\u001b[0m get_numbers(\u001b[38;5;241m20\u001b[39m, \u001b[38;5;241m1\u001b[39m)\n",
      "Cell \u001b[1;32mIn[15], line 3\u001b[0m, in \u001b[0;36mget_numbers\u001b[1;34m(low, high)\u001b[0m\n\u001b[0;32m      1\u001b[0m \u001b[38;5;28;01mdef\u001b[39;00m \u001b[38;5;21mget_numbers\u001b[39m(low \u001b[38;5;241m=\u001b[39m \u001b[38;5;241m1\u001b[39m, high \u001b[38;5;241m=\u001b[39m \u001b[38;5;241m11\u001b[39m):\n\u001b[0;32m      2\u001b[0m     \u001b[38;5;28;01mif\u001b[39;00m low \u001b[38;5;241m>\u001b[39m high:\n\u001b[1;32m----> 3\u001b[0m         \u001b[38;5;28;01mraise\u001b[39;00m \u001b[38;5;167;01mValueError\u001b[39;00m(\u001b[38;5;124m\"\u001b[39m\u001b[38;5;124mlow cannot be greater than high\u001b[39m\u001b[38;5;124m\"\u001b[39m)\n\u001b[0;32m      4\u001b[0m     numbers \u001b[38;5;241m=\u001b[39m []\n\u001b[0;32m      5\u001b[0m     i \u001b[38;5;241m=\u001b[39m low\n",
      "\u001b[1;31mValueError\u001b[0m: low cannot be greater than high"
     ]
    }
   ],
   "source": [
    "get_numbers(20, 1)"
   ]
  },
  {
   "cell_type": "markdown",
   "id": "3608e8d0-0cf5-4ddd-b102-56e75c888b14",
   "metadata": {},
   "source": [
    "### Another fix to the code(But still not good because we append into the list,which goes against the concept of list immutable(Cannot be modified once it's created))"
   ]
  },
  {
   "cell_type": "code",
   "execution_count": 26,
   "id": "f724fc0e-a051-4b0e-ab92-37ebf388ab87",
   "metadata": {},
   "outputs": [],
   "source": [
    "def get_numbers(low = 1, high = 11):\n",
    "    if low > high:\n",
    "        raise ValueError(\"low cannot be greater than high\")\n",
    "    numbers = []\n",
    "    for i in range(low, high + 1):\n",
    "        numbers.append(i) \n",
    "    return numbers"
   ]
  },
  {
   "cell_type": "code",
   "execution_count": 21,
   "id": "0e4f557a-a84a-470d-acc0-7d8c15a36e01",
   "metadata": {},
   "outputs": [],
   "source": [
    "numbers = get_numbers()"
   ]
  },
  {
   "cell_type": "code",
   "execution_count": 23,
   "id": "290eca62-f7f8-47f1-892b-ff5cc577ba38",
   "metadata": {},
   "outputs": [
    {
     "data": {
      "text/plain": [
       "[1, 2, 3, 4, 5, 6, 7, 8, 9, 10, 11]"
      ]
     },
     "execution_count": 23,
     "metadata": {},
     "output_type": "execute_result"
    }
   ],
   "source": [
    "numbers"
   ]
  },
  {
   "cell_type": "code",
   "execution_count": 24,
   "id": "e87e21b4-fe84-40a1-a868-837ab6b70fcd",
   "metadata": {},
   "outputs": [
    {
     "data": {
      "text/plain": [
       "False"
      ]
     },
     "execution_count": 24,
     "metadata": {},
     "output_type": "execute_result"
    }
   ],
   "source": [
    "numbers is None"
   ]
  },
  {
   "cell_type": "code",
   "execution_count": 25,
   "id": "ef6e702b-b41a-479c-8105-455630295d27",
   "metadata": {},
   "outputs": [
    {
     "ename": "ValueError",
     "evalue": "low cannot be greater than high",
     "output_type": "error",
     "traceback": [
      "\u001b[1;31m---------------------------------------------------------------------------\u001b[0m",
      "\u001b[1;31mValueError\u001b[0m                                Traceback (most recent call last)",
      "Cell \u001b[1;32mIn[25], line 1\u001b[0m\n\u001b[1;32m----> 1\u001b[0m get_numbers(\u001b[38;5;241m20\u001b[39m, \u001b[38;5;241m1\u001b[39m)\n",
      "Cell \u001b[1;32mIn[20], line 3\u001b[0m, in \u001b[0;36mget_numbers\u001b[1;34m(low, high)\u001b[0m\n\u001b[0;32m      1\u001b[0m \u001b[38;5;28;01mdef\u001b[39;00m \u001b[38;5;21mget_numbers\u001b[39m(low \u001b[38;5;241m=\u001b[39m \u001b[38;5;241m1\u001b[39m, high \u001b[38;5;241m=\u001b[39m \u001b[38;5;241m11\u001b[39m):\n\u001b[0;32m      2\u001b[0m     \u001b[38;5;28;01mif\u001b[39;00m low \u001b[38;5;241m>\u001b[39m high:\n\u001b[1;32m----> 3\u001b[0m         \u001b[38;5;28;01mraise\u001b[39;00m \u001b[38;5;167;01mValueError\u001b[39;00m(\u001b[38;5;124m\"\u001b[39m\u001b[38;5;124mlow cannot be greater than high\u001b[39m\u001b[38;5;124m\"\u001b[39m)\n\u001b[0;32m      4\u001b[0m     numbers \u001b[38;5;241m=\u001b[39m []\n\u001b[0;32m      5\u001b[0m     \u001b[38;5;28;01mfor\u001b[39;00m i \u001b[38;5;129;01min\u001b[39;00m \u001b[38;5;28mrange\u001b[39m(low, high \u001b[38;5;241m+\u001b[39m \u001b[38;5;241m1\u001b[39m):\n",
      "\u001b[1;31mValueError\u001b[0m: low cannot be greater than high"
     ]
    }
   ],
   "source": [
    "get_numbers(20, 1)"
   ]
  },
  {
   "cell_type": "markdown",
   "id": "a464706d-e3ce-4fae-967b-06ce3c092412",
   "metadata": {},
   "source": [
    "### Another fix, this one implies the concept of list immutable, we don't append the function and the append doesn't do anything at all(WE SHOULD NOT APPEND IT GOES AGAINST THE CONCEPT)"
   ]
  },
  {
   "cell_type": "markdown",
   "id": "fe9760b6-fcb3-4987-bf51-3b3ba3af8a9a",
   "metadata": {},
   "source": [
    "Creating a variable numbers with list  in the range from 1 to 11"
   ]
  },
  {
   "cell_type": "code",
   "execution_count": 40,
   "id": "5a1f6bf4-0188-453c-a064-c1cb00ad3d8d",
   "metadata": {},
   "outputs": [],
   "source": [
    "def get_numbers(low = 1, high = 11):\n",
    "    if low > high:\n",
    "        raise ValueError(\"low cannot be greater than high\")\n",
    "    numbers = list(range(low, high + 1))\n",
    "    return numbers"
   ]
  },
  {
   "cell_type": "code",
   "execution_count": 41,
   "id": "6e6bd17d-c287-44a0-b3b8-f7b1040adc52",
   "metadata": {},
   "outputs": [],
   "source": [
    "numbers = get_numbers()"
   ]
  },
  {
   "cell_type": "code",
   "execution_count": 42,
   "id": "454d0a09-e894-4f5a-8573-9f708dd6a360",
   "metadata": {},
   "outputs": [
    {
     "data": {
      "text/plain": [
       "[1, 2, 3, 4, 5, 6, 7, 8, 9, 10, 11]"
      ]
     },
     "execution_count": 42,
     "metadata": {},
     "output_type": "execute_result"
    }
   ],
   "source": [
    "numbers"
   ]
  },
  {
   "cell_type": "code",
   "execution_count": 43,
   "id": "ae2b5c9f-3276-485a-9b0f-e94442d6edff",
   "metadata": {},
   "outputs": [
    {
     "data": {
      "text/plain": [
       "False"
      ]
     },
     "execution_count": 43,
     "metadata": {},
     "output_type": "execute_result"
    }
   ],
   "source": [
    "numbers is None"
   ]
  },
  {
   "cell_type": "code",
   "execution_count": 44,
   "id": "d919ef90-2d47-4f63-9841-311b0c28716a",
   "metadata": {},
   "outputs": [
    {
     "ename": "ValueError",
     "evalue": "low cannot be greater than high",
     "output_type": "error",
     "traceback": [
      "\u001b[1;31m---------------------------------------------------------------------------\u001b[0m",
      "\u001b[1;31mValueError\u001b[0m                                Traceback (most recent call last)",
      "Cell \u001b[1;32mIn[44], line 1\u001b[0m\n\u001b[1;32m----> 1\u001b[0m get_numbers(\u001b[38;5;241m20\u001b[39m, \u001b[38;5;241m1\u001b[39m)\n",
      "Cell \u001b[1;32mIn[40], line 3\u001b[0m, in \u001b[0;36mget_numbers\u001b[1;34m(low, high)\u001b[0m\n\u001b[0;32m      1\u001b[0m \u001b[38;5;28;01mdef\u001b[39;00m \u001b[38;5;21mget_numbers\u001b[39m(low \u001b[38;5;241m=\u001b[39m \u001b[38;5;241m1\u001b[39m, high \u001b[38;5;241m=\u001b[39m \u001b[38;5;241m11\u001b[39m):\n\u001b[0;32m      2\u001b[0m     \u001b[38;5;28;01mif\u001b[39;00m low \u001b[38;5;241m>\u001b[39m high:\n\u001b[1;32m----> 3\u001b[0m         \u001b[38;5;28;01mraise\u001b[39;00m \u001b[38;5;167;01mValueError\u001b[39;00m(\u001b[38;5;124m\"\u001b[39m\u001b[38;5;124mlow cannot be greater than high\u001b[39m\u001b[38;5;124m\"\u001b[39m)\n\u001b[0;32m      4\u001b[0m     numbers \u001b[38;5;241m=\u001b[39m \u001b[38;5;28mlist\u001b[39m(\u001b[38;5;28mrange\u001b[39m(low, high \u001b[38;5;241m+\u001b[39m \u001b[38;5;241m1\u001b[39m))\n\u001b[0;32m      5\u001b[0m     \u001b[38;5;28;01mreturn\u001b[39;00m numbers\n",
      "\u001b[1;31mValueError\u001b[0m: low cannot be greater than high"
     ]
    }
   ],
   "source": [
    "get_numbers(20, 1)"
   ]
  },
  {
   "cell_type": "markdown",
   "id": "85d86485-0603-4a00-a5f7-367be847d831",
   "metadata": {},
   "source": [
    "### Trying to alter the values of NUMBERS(Doesn't work )"
   ]
  },
  {
   "cell_type": "code",
   "execution_count": 45,
   "id": "d55fb40e-f3ff-427b-914a-7e2194beef3b",
   "metadata": {},
   "outputs": [
    {
     "data": {
      "text/plain": [
       "[1, 2, 3, 4, 5, 6, 7, 8, 9, 10, 11]"
      ]
     },
     "execution_count": 45,
     "metadata": {},
     "output_type": "execute_result"
    }
   ],
   "source": [
    "numbers"
   ]
  },
  {
   "cell_type": "code",
   "execution_count": 46,
   "id": "899b2ca0-5e69-4c90-a847-f0080a74cdad",
   "metadata": {},
   "outputs": [],
   "source": [
    "for number in numbers:\n",
    "    number += 2"
   ]
  },
  {
   "cell_type": "code",
   "execution_count": 47,
   "id": "b5e9cfac-9cec-4a97-8b93-721a99f4ab69",
   "metadata": {},
   "outputs": [
    {
     "data": {
      "text/plain": [
       "[1, 2, 3, 4, 5, 6, 7, 8, 9, 10, 11]"
      ]
     },
     "execution_count": 47,
     "metadata": {},
     "output_type": "execute_result"
    }
   ],
   "source": [
    "numbers"
   ]
  },
  {
   "cell_type": "markdown",
   "id": "a7f4a192-d6d6-48c6-938a-c71494b84459",
   "metadata": {},
   "source": [
    "### There aint no change as the numbers are immutable, in lists we need to reach to the INDEX (i),but this still has a big drawback"
   ]
  },
  {
   "cell_type": "markdown",
   "id": "1fa97ee9-f094-462b-aa2c-0f4fa6aeb0ef",
   "metadata": {},
   "source": [
    "### Trying another way(reaching to the index),it works but it's still not with python syntax and style, AND WE LOST THE ORIGINAL VALUES OF NUMBERS AND WE DON'T WANT TO LOSE THAT"
   ]
  },
  {
   "cell_type": "code",
   "execution_count": 35,
   "id": "85b0ce43-63a2-46e2-81f0-76169d50b23e",
   "metadata": {},
   "outputs": [],
   "source": [
    "for i in range(len(numbers)):\n",
    "    numbers[i] += 2"
   ]
  },
  {
   "cell_type": "code",
   "execution_count": 36,
   "id": "d3fae8a8-e590-4743-aa98-49521a1afae4",
   "metadata": {},
   "outputs": [
    {
     "data": {
      "text/plain": [
       "[3, 4, 5, 6, 7, 8, 9, 10, 11, 12, 13]"
      ]
     },
     "execution_count": 36,
     "metadata": {},
     "output_type": "execute_result"
    }
   ],
   "source": [
    "numbers"
   ]
  },
  {
   "cell_type": "markdown",
   "id": "2342d7ab-9679-4cfb-bdf0-912594e6440a",
   "metadata": {},
   "source": [
    "### ANOTHER ALTERATION(Creating a new list to save the altered values of the original numbers list BY APPENDING TO IT).THIS METHOD IS ALSO NOT OPTIMAL "
   ]
  },
  {
   "cell_type": "code",
   "execution_count": 51,
   "id": "3ca22dbb-5e20-4c15-9f2d-21d350caa1fb",
   "metadata": {},
   "outputs": [],
   "source": [
    "numbers2 = []\n",
    "for i in range(len(numbers)):\n",
    "    numbers2.append(numbers[i] + 2)"
   ]
  },
  {
   "cell_type": "code",
   "execution_count": 52,
   "id": "fa0772ac-f91a-4e5d-8a6b-ec9608975655",
   "metadata": {},
   "outputs": [
    {
     "data": {
      "text/plain": [
       "[1, 2, 3, 4, 5, 6, 7, 8, 9, 10, 11]"
      ]
     },
     "execution_count": 52,
     "metadata": {},
     "output_type": "execute_result"
    }
   ],
   "source": [
    "numbers"
   ]
  },
  {
   "cell_type": "code",
   "execution_count": 53,
   "id": "97a380c7-6c60-4f14-b1c4-e4fca469fdff",
   "metadata": {},
   "outputs": [
    {
     "data": {
      "text/plain": [
       "[3, 4, 5, 6, 7, 8, 9, 10, 11, 12, 13]"
      ]
     },
     "execution_count": 53,
     "metadata": {},
     "output_type": "execute_result"
    }
   ],
   "source": [
    "numbers2"
   ]
  },
  {
   "cell_type": "markdown",
   "id": "dc7dbddd-87d1-455b-9245-7e0f1a7afef9",
   "metadata": {},
   "source": [
    "### We can get functions and save them as variables "
   ]
  },
  {
   "cell_type": "code",
   "execution_count": 54,
   "id": "9a817737-9420-4d60-b77a-3e33efd17d5a",
   "metadata": {},
   "outputs": [],
   "source": [
    "function_as_variable = get_numbers"
   ]
  },
  {
   "cell_type": "code",
   "execution_count": 55,
   "id": "9dd99051-f874-48e9-a42c-e762d9f73238",
   "metadata": {},
   "outputs": [
    {
     "data": {
      "text/plain": [
       "[1, 2, 3, 4, 5, 6, 7, 8, 9, 10, 11]"
      ]
     },
     "execution_count": 55,
     "metadata": {},
     "output_type": "execute_result"
    }
   ],
   "source": [
    "function_as_variable()"
   ]
  },
  {
   "cell_type": "markdown",
   "id": "e3fc060e-26c1-4710-8cd1-b6d008f40e53",
   "metadata": {},
   "source": [
    "### IN PYTHON WE ALREADY HAVE A FUNCTION THAT DOES THAT JOB AND IT DOES IT QUICK,IT'S UNDERSTANDABLE AND CLEAN = MAP(FUNC, *ITERABLES) ITERABLES ARE COLLECTIONS THAT CAN BE EXAMINED AND ALTERED"
   ]
  },
  {
   "cell_type": "code",
   "execution_count": 56,
   "id": "026e5624-b92e-4ccf-af31-7d4242f0e174",
   "metadata": {},
   "outputs": [
    {
     "data": {
      "text/plain": [
       "<map at 0x1fa3e885930>"
      ]
     },
     "execution_count": 56,
     "metadata": {},
     "output_type": "execute_result"
    }
   ],
   "source": [
    "map(lambda n: n +2, numbers)"
   ]
  },
  {
   "cell_type": "markdown",
   "id": "eadbfbf4-9b19-4bb6-bb45-565e1a6e81a6",
   "metadata": {},
   "source": [
    "Now we make it a list"
   ]
  },
  {
   "cell_type": "code",
   "execution_count": 59,
   "id": "21d1608e-54b5-4769-9f2b-e28ac1746067",
   "metadata": {},
   "outputs": [],
   "source": [
    "numbers2 = list(map(lambda n: n + 2, numbers))"
   ]
  },
  {
   "cell_type": "code",
   "execution_count": 58,
   "id": "6533ca18-8f6d-4bfe-b4ac-df6e543da337",
   "metadata": {},
   "outputs": [
    {
     "data": {
      "text/plain": [
       "[1, 2, 3, 4, 5, 6, 7, 8, 9, 10, 11]"
      ]
     },
     "execution_count": 58,
     "metadata": {},
     "output_type": "execute_result"
    }
   ],
   "source": [
    "numbers"
   ]
  },
  {
   "cell_type": "code",
   "execution_count": 60,
   "id": "9b330fc0-4643-4740-9ba8-60295666f155",
   "metadata": {},
   "outputs": [
    {
     "data": {
      "text/plain": [
       "[3, 4, 5, 6, 7, 8, 9, 10, 11, 12, 13]"
      ]
     },
     "execution_count": 60,
     "metadata": {},
     "output_type": "execute_result"
    }
   ],
   "source": [
    "numbers2"
   ]
  },
  {
   "cell_type": "markdown",
   "id": "5e064279-23a3-4561-8705-9c6df7c8365a",
   "metadata": {},
   "source": [
    "### FILTERS"
   ]
  },
  {
   "cell_type": "code",
   "execution_count": 61,
   "id": "6d85fd83-bd8e-4d6b-a19e-a06914d29222",
   "metadata": {},
   "outputs": [
    {
     "data": {
      "text/plain": [
       "[1, 2, 3, 4]"
      ]
     },
     "execution_count": 61,
     "metadata": {},
     "output_type": "execute_result"
    }
   ],
   "source": [
    "list(filter(lambda n: n < 5, numbers))"
   ]
  },
  {
   "cell_type": "markdown",
   "id": "61f69d3f-43c5-4201-9e0a-552a68d90f34",
   "metadata": {},
   "source": [
    "### List COMPREHENSION (CREATES A COPY OF NUMBERS AND IT DOESNT ALTER THE ORIGINAL NUMBERS) "
   ]
  },
  {
   "cell_type": "code",
   "execution_count": 62,
   "id": "ef302cab-660d-4cee-925b-87ac54068e46",
   "metadata": {},
   "outputs": [
    {
     "data": {
      "text/plain": [
       "[1, 2, 3, 4, 5, 6, 7, 8, 9, 10, 11]"
      ]
     },
     "execution_count": 62,
     "metadata": {},
     "output_type": "execute_result"
    }
   ],
   "source": [
    "[n for n in numbers]"
   ]
  },
  {
   "cell_type": "code",
   "execution_count": 63,
   "id": "c45572d6-007c-4a62-a942-7b246990e47b",
   "metadata": {},
   "outputs": [
    {
     "data": {
      "text/plain": [
       "[3, 4, 5, 6, 7, 8, 9, 10, 11, 12, 13]"
      ]
     },
     "execution_count": 63,
     "metadata": {},
     "output_type": "execute_result"
    }
   ],
   "source": [
    "[n + 2 for n in numbers]"
   ]
  },
  {
   "cell_type": "code",
   "execution_count": 64,
   "id": "cbd7ccde-84e1-44bf-9b0e-6a0a82449ada",
   "metadata": {},
   "outputs": [
    {
     "data": {
      "text/plain": [
       "[9, 16, 25, 36, 49, 64, 81, 100, 121, 144, 169]"
      ]
     },
     "execution_count": 64,
     "metadata": {},
     "output_type": "execute_result"
    }
   ],
   "source": [
    "[(n + 2)**2 for n in numbers]"
   ]
  },
  {
   "cell_type": "markdown",
   "id": "8ecdb47b-ad87-4dbe-85d3-e3c4adea3435",
   "metadata": {},
   "source": [
    "### Filtering (if) comes before mapping(projection(alterations)). First we filtrate the n in numbers => n takes the values from 1 to 11. If i < 7 means n takes the values from 1 to 6. n^2 >= 25 means it takes the values of 5 and 6 because they are the only ones that equal n^2 >= 25 and n < 7. After that comes the mapping(altering of value n,which after the filter are 5 and 6). So the result is (5+2 = 7)^2 and (6+2=8)^2 and these equal 49 and 64"
   ]
  },
  {
   "cell_type": "code",
   "execution_count": 66,
   "id": "da34bf76-921b-4e24-b66d-9379ce4af1d7",
   "metadata": {},
   "outputs": [
    {
     "data": {
      "text/plain": [
       "[49, 64]"
      ]
     },
     "execution_count": 66,
     "metadata": {},
     "output_type": "execute_result"
    }
   ],
   "source": [
    "[(n + 2)**2 for n in numbers if n < 7 and n ** 2 >= 25]"
   ]
  },
  {
   "cell_type": "markdown",
   "id": "b8e7be0d-9128-4529-8579-a6e4395cab4a",
   "metadata": {},
   "source": [
    "### CLOSURE(Defining a function inside of a function that depends on the outer one)Both of them have one varialbe. Inner summator will stay hidden, but we can return the inner summator if we want. This is a function that we prepare for future actions."
   ]
  },
  {
   "cell_type": "code",
   "execution_count": 69,
   "id": "216c5534-4ab5-40ea-b56f-52d1dd5a6260",
   "metadata": {},
   "outputs": [],
   "source": [
    "def summator(a):\n",
    "    def inner_summator(b):\n",
    "        return a + b\n",
    "    return inner_summator"
   ]
  },
  {
   "cell_type": "code",
   "execution_count": 70,
   "id": "dcc94fcf-0f53-4a34-834a-790981222ab6",
   "metadata": {},
   "outputs": [
    {
     "data": {
      "text/plain": [
       "<function __main__.summator.<locals>.inner_summator(b)>"
      ]
     },
     "execution_count": 70,
     "metadata": {},
     "output_type": "execute_result"
    }
   ],
   "source": [
    "summator(5)"
   ]
  },
  {
   "cell_type": "markdown",
   "id": "d15e7358-57f2-4502-835c-76dc2c9b9437",
   "metadata": {},
   "source": [
    "### This way we can create a function for example with this one we can create a function that adds 5 to every varialbe we input"
   ]
  },
  {
   "cell_type": "code",
   "execution_count": 71,
   "id": "f17c1575-ac3f-4fa6-9db6-2d65c1a04382",
   "metadata": {},
   "outputs": [],
   "source": [
    "add5 = summator(5)"
   ]
  },
  {
   "cell_type": "code",
   "execution_count": 72,
   "id": "f613f327-826e-486d-87fc-3588429f8254",
   "metadata": {},
   "outputs": [
    {
     "data": {
      "text/plain": [
       "6"
      ]
     },
     "execution_count": 72,
     "metadata": {},
     "output_type": "execute_result"
    }
   ],
   "source": [
    "add5(1)"
   ]
  },
  {
   "cell_type": "code",
   "execution_count": 73,
   "id": "5bc09c96-b47f-4eef-b0e9-05eb62c9b63c",
   "metadata": {},
   "outputs": [
    {
     "data": {
      "text/plain": [
       "15"
      ]
     },
     "execution_count": 73,
     "metadata": {},
     "output_type": "execute_result"
    }
   ],
   "source": [
    "add5(10)"
   ]
  },
  {
   "cell_type": "code",
   "execution_count": 74,
   "id": "e27b6569-83ed-4489-bd2a-cbbe5b996598",
   "metadata": {},
   "outputs": [
    {
     "data": {
      "text/plain": [
       "[6, 7, 8, 9, 10, 11, 12, 13, 14, 15, 16]"
      ]
     },
     "execution_count": 74,
     "metadata": {},
     "output_type": "execute_result"
    }
   ],
   "source": [
    "[add5(n) for n in numbers]"
   ]
  },
  {
   "cell_type": "code",
   "execution_count": 75,
   "id": "880a18ea-0b57-49d7-82e0-a1f15e0101ac",
   "metadata": {},
   "outputs": [
    {
     "data": {
      "text/plain": [
       "<function __main__.summator.<locals>.inner_summator(b)>"
      ]
     },
     "execution_count": 75,
     "metadata": {},
     "output_type": "execute_result"
    }
   ],
   "source": [
    "summator(10)"
   ]
  },
  {
   "cell_type": "code",
   "execution_count": 76,
   "id": "e2fcea8f-e700-4054-ae87-f9e3b3cd5d62",
   "metadata": {},
   "outputs": [],
   "source": [
    "add10 = summator(10)"
   ]
  },
  {
   "cell_type": "code",
   "execution_count": 77,
   "id": "5b3f4eb2-345c-4a18-85ee-d74ad0528ce8",
   "metadata": {},
   "outputs": [
    {
     "data": {
      "text/plain": [
       "15"
      ]
     },
     "execution_count": 77,
     "metadata": {},
     "output_type": "execute_result"
    }
   ],
   "source": [
    "add10(5)"
   ]
  },
  {
   "cell_type": "code",
   "execution_count": 78,
   "id": "c2c67cb7-31eb-49d2-973e-3233a082b554",
   "metadata": {},
   "outputs": [
    {
     "data": {
      "text/plain": [
       "[11, 12, 13, 14, 15, 16, 17, 18, 19, 20, 21]"
      ]
     },
     "execution_count": 78,
     "metadata": {},
     "output_type": "execute_result"
    }
   ],
   "source": [
    "[summator(10)(n) for n in numbers]"
   ]
  },
  {
   "cell_type": "markdown",
   "id": "e398d812-1f95-4e0f-a772-53fa53fc071b",
   "metadata": {},
   "source": [
    "### USING NUMPY"
   ]
  },
  {
   "cell_type": "code",
   "execution_count": 80,
   "id": "3f06b279-2c1f-4f13-bc42-192c9402f8d0",
   "metadata": {},
   "outputs": [
    {
     "data": {
      "text/plain": [
       "array([ 0,  1,  2,  3,  4,  5,  6,  7,  8,  9, 10, 11, 12, 13, 14, 15, 16,\n",
       "       17, 18, 19])"
      ]
     },
     "execution_count": 80,
     "metadata": {},
     "output_type": "execute_result"
    }
   ],
   "source": [
    "np.arange(20)"
   ]
  },
  {
   "cell_type": "code",
   "execution_count": 81,
   "id": "9b666588-fd2f-4942-abd0-ce6b2fca76c9",
   "metadata": {},
   "outputs": [
    {
     "data": {
      "text/plain": [
       "array([ 3,  4,  5,  6,  7,  8,  9, 10, 11, 12, 13, 14, 15, 16, 17, 18, 19,\n",
       "       20, 21, 22])"
      ]
     },
     "execution_count": 81,
     "metadata": {},
     "output_type": "execute_result"
    }
   ],
   "source": [
    "np.arange(20) + 3"
   ]
  },
  {
   "cell_type": "code",
   "execution_count": 82,
   "id": "1bfd8816-792a-4331-afe2-d21d4475fe42",
   "metadata": {},
   "outputs": [
    {
     "data": {
      "text/plain": [
       "array([False, False, False, False, False, False, False, False, False,\n",
       "       False, False,  True,  True,  True,  True,  True,  True,  True,\n",
       "        True,  True])"
      ]
     },
     "execution_count": 82,
     "metadata": {},
     "output_type": "execute_result"
    }
   ],
   "source": [
    "np.arange(20) > 10"
   ]
  },
  {
   "cell_type": "code",
   "execution_count": 83,
   "id": "6edb9c44-a7c6-4087-8772-427bec8ea242",
   "metadata": {},
   "outputs": [],
   "source": [
    "np_nums = np.arange(20)"
   ]
  },
  {
   "cell_type": "code",
   "execution_count": 84,
   "id": "6b48efaf-2529-4659-b187-761055057986",
   "metadata": {},
   "outputs": [
    {
     "data": {
      "text/plain": [
       "array([ 4,  5,  6,  7,  8,  9, 10, 11, 12, 13, 14, 15, 16, 17, 18, 19])"
      ]
     },
     "execution_count": 84,
     "metadata": {},
     "output_type": "execute_result"
    }
   ],
   "source": [
    "np_nums[np_nums > 3]"
   ]
  },
  {
   "cell_type": "code",
   "execution_count": 85,
   "id": "74345598-75b0-4f78-bf2a-c3a64b3b6b09",
   "metadata": {},
   "outputs": [
    {
     "data": {
      "text/plain": [
       "[array([ 8, 10, 12, 14, 16, 18, 20, 22, 24, 26, 28, 30, 32, 34, 36, 38])]"
      ]
     },
     "execution_count": 85,
     "metadata": {},
     "output_type": "execute_result"
    }
   ],
   "source": [
    "[np_nums[np_nums > 3] * 2] "
   ]
  },
  {
   "cell_type": "code",
   "execution_count": 86,
   "id": "0b6ac7e6-1c09-4535-9b63-446abb69c1ea",
   "metadata": {},
   "outputs": [
    {
     "data": {
      "text/plain": [
       "array([ 0,  2,  4,  6,  8, 10, 12, 14, 16, 18, 20, 22, 24, 26, 28, 30, 32,\n",
       "       34, 36, 38])"
      ]
     },
     "execution_count": 86,
     "metadata": {},
     "output_type": "execute_result"
    }
   ],
   "source": [
    "np_nums * 2"
   ]
  },
  {
   "cell_type": "code",
   "execution_count": null,
   "id": "f350b70d-ad75-478c-afac-ec64b67b7340",
   "metadata": {},
   "outputs": [],
   "source": []
  }
 ],
 "metadata": {
  "kernelspec": {
   "display_name": "Python 3 (ipykernel)",
   "language": "python",
   "name": "python3"
  },
  "language_info": {
   "codemirror_mode": {
    "name": "ipython",
    "version": 3
   },
   "file_extension": ".py",
   "mimetype": "text/x-python",
   "name": "python",
   "nbconvert_exporter": "python",
   "pygments_lexer": "ipython3",
   "version": "3.11.7"
  }
 },
 "nbformat": 4,
 "nbformat_minor": 5
}
