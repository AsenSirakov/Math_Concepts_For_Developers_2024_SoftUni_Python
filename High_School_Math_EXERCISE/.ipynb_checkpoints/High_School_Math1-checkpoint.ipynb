{
 "cells": [
  {
   "cell_type": "markdown",
   "id": "4bfef10a-bb2e-4403-8331-47d95bd70ec0",
   "metadata": {},
   "source": [
    "# DEF EXAMPLE\n",
    "## An example code of the def method"
   ]
  },
  {
   "cell_type": "code",
   "execution_count": 2,
   "id": "c01a1b1a-0367-4b5a-a23d-b3514b0ec977",
   "metadata": {},
   "outputs": [],
   "source": [
    "def solve_linear_equation(a,b):\n",
    "    if a==0:\n",
    "        return []\n",
    "    else:\n",
    "        return -b/a"
   ]
  },
  {
   "cell_type": "code",
   "execution_count": 5,
   "id": "62fe2b21-7841-4589-b1d7-af7e471c0fce",
   "metadata": {},
   "outputs": [
    {
     "name": "stdout",
     "output_type": "stream",
     "text": [
      "2.12\n",
      "2.5\n"
     ]
    }
   ],
   "source": [
    "print(solve_linear_equation(2.5,-5.3))\n",
    "print(solve_linear_equation(2,-5))"
   ]
  }
 ],
 "metadata": {
  "kernelspec": {
   "display_name": "Python 3 (ipykernel)",
   "language": "python",
   "name": "python3"
  },
  "language_info": {
   "codemirror_mode": {
    "name": "ipython",
    "version": 3
   },
   "file_extension": ".py",
   "mimetype": "text/x-python",
   "name": "python",
   "nbconvert_exporter": "python",
   "pygments_lexer": "ipython3",
   "version": "3.11.7"
  }
 },
 "nbformat": 4,
 "nbformat_minor": 5
}
